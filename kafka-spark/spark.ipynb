{
 "cells": [
  {
   "cell_type": "markdown",
   "metadata": {},
   "source": [
    "# Mise en place de spark & kafka"
   ]
  },
  {
   "cell_type": "markdown",
   "metadata": {},
   "source": [
    "### Mise en place du Producer"
   ]
  },
  {
   "cell_type": "code",
   "execution_count": 6,
   "metadata": {},
   "outputs": [],
   "source": [
    "from pyspark.sql import SparkSession\n",
    "from pyspark.sql.functions import json_tuple\n",
    "\n",
    "from kafka import KafkaConsumer, KafkaProducer\n",
    "import json\n",
    "import os\n",
    "\n",
    "def create_spark_session():\n",
    "    spark = SparkSession.builder \\\n",
    "        .appName(\"KafkaSparkConsumer\") \\\n",
    "        .getOrCreate()\n",
    "    return spark\n",
    "\n",
    "def produce_messages():\n",
    "    producer = KafkaProducer(bootstrap_servers='localhost:9092')\n",
    "    producer.send('add_to_bd', key=str(i).encode(), value=b'message')\n",
    "    producer.flush()"
   ]
  },
  {
   "cell_type": "markdown",
   "metadata": {},
   "source": [
    "### Mise en place du Consumer"
   ]
  },
  {
   "cell_type": "code",
   "execution_count": 7,
   "metadata": {},
   "outputs": [],
   "source": [
    "def consume_messages(spark):\n",
    "    consumer = KafkaConsumer(\n",
    "        'add_to_bd',\n",
    "        bootstrap_servers='kafka:9092',\n",
    "        value_deserializer=lambda m: json.loads(m.decode('utf-8'))\n",
    "    )\n",
    "\n",
    "    for message in consumer:\n",
    "        process_message(spark, message.value)\n",
    "\n",
    "def process_message(spark, message):\n",
    "    df = spark.createDataFrame([message])\n",
    "    # Here you can add logic to insert the data into MongoDB\n",
    "    # For example, df.write.format(\"mongo\").mode(\"append\").save(\"mongodb://mongo:[MONGOPORT]/your_db.your_collection\")"
   ]
  },
  {
   "cell_type": "markdown",
   "metadata": {},
   "source": [
    "### Test du consumer & producer"
   ]
  },
  {
   "cell_type": "code",
   "execution_count": null,
   "metadata": {},
   "outputs": [],
   "source": [
    "spark = create_spark_session()\n",
    "#consume_messages(spark)"
   ]
  }
 ],
 "metadata": {
  "kernelspec": {
   "display_name": "p3.10",
   "language": "python",
   "name": "python3"
  },
  "language_info": {
   "codemirror_mode": {
    "name": "ipython",
    "version": 3
   },
   "file_extension": ".py",
   "mimetype": "text/x-python",
   "name": "python",
   "nbconvert_exporter": "python",
   "pygments_lexer": "ipython3",
   "version": "3.10.16"
  }
 },
 "nbformat": 4,
 "nbformat_minor": 2
}
