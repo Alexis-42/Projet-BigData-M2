{
 "cells": [
  {
   "cell_type": "markdown",
   "metadata": {},
   "source": [
    " # Récupération Donnée API Github\n",
    "\n",
    "Chargement de la clé github "
   ]
  },
  {
   "cell_type": "code",
   "execution_count": 1,
   "metadata": {},
   "outputs": [],
   "source": [
    "import os\n",
    "from dotenv import load_dotenv\n",
    "\n",
    "load_dotenv(\"../../.env\")\n",
    "\n",
    "CLE_API_GITHUB = os.getenv('CLE_API_GITHUB')"
   ]
  },
  {
   "cell_type": "code",
   "execution_count": 2,
   "metadata": {},
   "outputs": [],
   "source": [
    "import requests\n",
    "import random\n",
    "import base64\n",
    "import time\n",
    "\n",
    "HEADERS = {\"Authorization\": f\"token {CLE_API_GITHUB}\"}\n",
    "\n",
    "def get_repos():\n",
    "    # Recherche générale avec le mot \"a\" (ou autre lettre)\n",
    "    url = \"https://api.github.com/search/repositories\"\n",
    "    params = {\n",
    "        \"q\": \"a\", # recherche avec la lettre \"a\"\n",
    "        \"order\": \"desc\",\n",
    "        \"per_page\": 5, \n",
    "        \"page\": random.randint(1, 100), # page random entre 1 et 100\n",
    "        }  \n",
    "    response = requests.get(url, headers=HEADERS, params=params)\n",
    "    data_repos = []\n",
    "    \n",
    "    if response.status_code == 200:\n",
    "        data = response.json()\n",
    "        repos = data.get(\"items\", [])\n",
    "        if repos:\n",
    "            for repo in repos:\n",
    "                if(fetch_and_check_readme(repo)):\n",
    "                    data_repos.append({\n",
    "                        \"name\": repo[\"name\"],\n",
    "                        \"html_url\": repo[\"html_url\"],\n",
    "                        \"description\": repo[\"description\"],\n",
    "                        \"readme\" : repo[\"readme_content\"]\n",
    "                    })\n",
    "            return data_repos\n",
    "        else:\n",
    "            return \"Aucun dépôt trouvé.\"\n",
    "    else:\n",
    "        if response.status_code == 403:\n",
    "            time.sleep(10)\n",
    "            return get_repos()\n",
    "        else :\n",
    "            return f\"Erreur: {response.status_code}, {response.text}\"\n",
    "\n",
    "\n",
    "def fetch_and_check_readme(repo):\n",
    "    readme_url = repo[\"url\"] + \"/readme\"\n",
    "    response = requests.get(readme_url, headers=HEADERS)\n",
    "    readme_is_present = False\n",
    "    if response.status_code == 200:\n",
    "        data = response.json()\n",
    "        if \"content\" in data:\n",
    "            # Décoder le contenu encodé en base64\n",
    "            content = base64.b64decode(data[\"content\"]).decode(\"utf-8\").strip()\n",
    "            if content:  # Vérifier que le README n'est pas vide\n",
    "                repo[\"readme_content\"] = content\n",
    "                readme_is_present = True\n",
    "    return readme_is_present\n"
   ]
  },
  {
   "cell_type": "code",
   "execution_count": 3,
   "metadata": {},
   "outputs": [],
   "source": [
    "from kafka import KafkaProducer\n",
    "import json\n",
    "import random\n",
    "from typing import Dict, Any\n",
    "\n",
    "add_to_es_topic = \"add_to_es\"\n",
    "\n",
    "\"\"\"Create a Kafka producer with default settings.\"\"\"\n",
    "def create_producer() -> KafkaProducer:\n",
    "    return KafkaProducer(\n",
    "        bootstrap_servers='localhost:29092',\n",
    "        value_serializer=lambda x: json.dumps(x).encode('utf-8'),\n",
    "        key_serializer=lambda k: k.encode('utf-8')\n",
    "    )\n",
    "\n",
    "def send_message(producer: KafkaProducer, topic: str, key: str, message: Dict[str, Any]) -> None:\n",
    "    \"\"\"Send a message to a Kafka topic.\"\"\"\n",
    "    try:\n",
    "        future = producer.send(topic, key=key, value=message)\n",
    "        metadata = future.get(timeout=5)\n",
    "        print(f\"Message sent - Key: {key}, Partition: {metadata.partition}, Offset: {metadata.offset}\")\n",
    "    except Exception as e:\n",
    "        print(f\"Error sending message: {repr(e)}\")\n",
    "\n",
    "\n",
    "def produce_messages(message, topic):\n",
    "    producer = create_producer()\n",
    "    \n",
    "    unique_ids = ['id1', 'id2', 'id3', 'id4']    \n",
    "    try:\n",
    "        key = random.choice(unique_ids)\n",
    "        send_message(producer, topic, key, message)\n",
    "    except Exception as e:\n",
    "        print(f\"Failed to produce message: {str(e)}\")\n",
    "    finally:\n",
    "        producer.close()"
   ]
  },
  {
   "cell_type": "code",
   "execution_count": null,
   "metadata": {},
   "outputs": [
    {
     "name": "stdout",
     "output_type": "stream",
     "text": [
      "Envoi du repo a-react-app-example à Kafka\n",
      "Error sending message: KafkaTimeoutError('Timeout after waiting for 5 secs.')\n"
     ]
    }
   ],
   "source": [
    "from kafka import KafkaProducer\n",
    "import json\n",
    "\n",
    "def find_and_send_repos():\n",
    "    repo = get_repos()\n",
    "    for r in repo:\n",
    "        print(f\"Envoi du repo {r['name']} à Kafka\")\n",
    "        produce_messages(json.dumps(repo, indent=4), \"add_to_es\")\n",
    "\n",
    "find_and_send_repos()"
   ]
  }
 ],
 "metadata": {
  "kernelspec": {
   "display_name": "p3.10",
   "language": "python",
   "name": "python3"
  },
  "language_info": {
   "codemirror_mode": {
    "name": "ipython",
    "version": 3
   },
   "file_extension": ".py",
   "mimetype": "text/x-python",
   "name": "python",
   "nbconvert_exporter": "python",
   "pygments_lexer": "ipython3",
   "version": "3.10.16"
  }
 },
 "nbformat": 4,
 "nbformat_minor": 2
}
