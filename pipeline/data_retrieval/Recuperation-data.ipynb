{
 "cells": [
  {
   "cell_type": "markdown",
   "metadata": {},
   "source": [
    " # Récupération Donnée API Github\n",
    "\n",
    "Chargement de la clé github "
   ]
  },
  {
   "cell_type": "code",
   "execution_count": null,
   "metadata": {},
   "outputs": [],
   "source": [
    "import os\n",
    "from dotenv import load_dotenv\n",
    "\n",
    "load_dotenv(\"../../.env\")\n",
    "\n",
    "CLE_API_GITHUB = os.getenv('CLE_API_GITHUB')"
   ]
  },
  {
   "cell_type": "code",
   "execution_count": 2,
   "metadata": {},
   "outputs": [],
   "source": [
    "import requests\n",
    "import random\n",
    "import base64\n",
    "import time\n",
    "\n",
    "HEADERS = {\"Authorization\": f\"token {CLE_API_GITHUB}\"}\n",
    "\n",
    "def get_repos():\n",
    "    # Recherche générale avec le mot \"a\" (ou autre lettre)\n",
    "    url = \"https://api.github.com/search/repositories\"\n",
    "    params = {\n",
    "        \"q\": \"a\", # recherche avec la lettre \"a\"\n",
    "        \"order\": \"desc\",\n",
    "        \"per_page\": 5, \n",
    "        \"page\": random.randint(1, 100), # page random entre 1 et 100\n",
    "        }  \n",
    "    response = requests.get(url, headers=HEADERS, params=params)\n",
    "    data_repos = []\n",
    "    \n",
    "    if response.status_code == 200:\n",
    "        data = response.json()\n",
    "        repos = data.get(\"items\", [])\n",
    "        if repos:\n",
    "            for repo in repos:\n",
    "                if(fetch_and_check_readme(repo)):\n",
    "                    data_repos.append({\n",
    "                        \"name\": repo[\"name\"],\n",
    "                        \"html_url\": repo[\"html_url\"],\n",
    "                        \"description\": repo[\"description\"],\n",
    "                        \"readme\" : repo[\"readme_content\"]\n",
    "                    })\n",
    "            return data_repos\n",
    "        else:\n",
    "            return \"Aucun dépôt trouvé.\"\n",
    "    else:\n",
    "        if response.status_code == 403:\n",
    "            time.sleep(10)\n",
    "            return get_repos()\n",
    "        else :\n",
    "            return f\"Erreur: {response.status_code}, {response.text}\"\n",
    "\n",
    "\n",
    "def fetch_and_check_readme(repo):\n",
    "    readme_url = repo[\"url\"] + \"/readme\"\n",
    "    response = requests.get(readme_url, headers=HEADERS)\n",
    "    readme_is_present = False\n",
    "    if response.status_code == 200:\n",
    "        data = response.json()\n",
    "        if \"content\" in data:\n",
    "            # Décoder le contenu encodé en base64\n",
    "            content = base64.b64decode(data[\"content\"]).decode(\"utf-8\").strip()\n",
    "            if content:  # Vérifier que le README n'est pas vide\n",
    "                repo[\"readme_content\"] = content\n",
    "                readme_is_present = True\n",
    "    return readme_is_present\n"
   ]
  },
  {
   "cell_type": "code",
   "execution_count": 10,
   "metadata": {},
   "outputs": [
    {
     "name": "stdout",
     "output_type": "stream",
     "text": [
      "Erreur: 403, {\n",
      "  \"documentation_url\": \"https://docs.github.com/free-pro-team@latest/rest/overview/rate-limits-for-the-rest-api#about-secondary-rate-limits\",\n",
      "  \"message\": \"You have exceeded a secondary rate limit. Please wait a few minutes before you try again. If you reach out to GitHub Support for help, please include the request ID C6E1:32A54B:FF4958:10528B6:678BEB4E.\"\n",
      "}\n"
     ]
    },
    {
     "ename": "TypeError",
     "evalue": "string indices must be integers",
     "output_type": "error",
     "traceback": [
      "\u001b[1;31m---------------------------------------------------------------------------\u001b[0m",
      "\u001b[1;31mTypeError\u001b[0m                                 Traceback (most recent call last)",
      "Cell \u001b[1;32mIn[10], line 20\u001b[0m\n\u001b[0;32m     11\u001b[0m         \u001b[38;5;66;03m#produce_messages(json.dumps(repo, indent=4), \"add_to_es\")\u001b[39;00m\n\u001b[0;32m     12\u001b[0m \u001b[38;5;124;03m\"\"\"\u001b[39;00m\n\u001b[0;32m     13\u001b[0m \u001b[38;5;124;03mif __name__ == \"__main__\":\u001b[39;00m\n\u001b[0;32m     14\u001b[0m \u001b[38;5;124;03m    schedule.every(2).minutes.do(find_and_send_repos)\u001b[39;00m\n\u001b[1;32m   (...)\u001b[0m\n\u001b[0;32m     17\u001b[0m \u001b[38;5;124;03m        time.sleep(10)\u001b[39;00m\n\u001b[0;32m     18\u001b[0m \u001b[38;5;124;03m\"\"\"\u001b[39;00m\n\u001b[1;32m---> 20\u001b[0m \u001b[43mfind_and_send_repos\u001b[49m\u001b[43m(\u001b[49m\u001b[43m)\u001b[49m\n",
      "Cell \u001b[1;32mIn[10], line 10\u001b[0m, in \u001b[0;36mfind_and_send_repos\u001b[1;34m()\u001b[0m\n\u001b[0;32m      8\u001b[0m \u001b[38;5;28mprint\u001b[39m(repo)\n\u001b[0;32m      9\u001b[0m \u001b[38;5;28;01mfor\u001b[39;00m r \u001b[38;5;129;01min\u001b[39;00m repo:\n\u001b[1;32m---> 10\u001b[0m     \u001b[38;5;28mprint\u001b[39m(\u001b[38;5;124mf\u001b[39m\u001b[38;5;124m\"\u001b[39m\u001b[38;5;124mEnvoi du repo \u001b[39m\u001b[38;5;132;01m{\u001b[39;00m\u001b[43mr\u001b[49m\u001b[43m[\u001b[49m\u001b[38;5;124;43m'\u001b[39;49m\u001b[38;5;124;43mname\u001b[39;49m\u001b[38;5;124;43m'\u001b[39;49m\u001b[43m]\u001b[49m\u001b[38;5;132;01m}\u001b[39;00m\u001b[38;5;124m à Kafka\u001b[39m\u001b[38;5;124m\"\u001b[39m)\n",
      "\u001b[1;31mTypeError\u001b[0m: string indices must be integers"
     ]
    }
   ],
   "source": [
    "import schedule\n",
    "import time\n",
    "import json\n",
    "from spark_kafka import produce_messages\n",
    "\n",
    "def find_and_send_repos():\n",
    "    repo = get_repos()\n",
    "    print(repo)\n",
    "    for r in repo:\n",
    "        print(f\"Envoi du repo {r['name']} à Kafka\")\n",
    "        #produce_messages(json.dumps(repo, indent=4), \"add_to_es\")\n",
    "\"\"\"\n",
    "if __name__ == \"__main__\":\n",
    "    schedule.every(2).minutes.do(find_and_send_repos)\n",
    "    while True:\n",
    "        schedule.run_pending()\n",
    "        time.sleep(10)\n",
    "\"\"\"\n",
    "\n",
    "find_and_send_repos()"
   ]
  }
 ],
 "metadata": {
  "kernelspec": {
   "display_name": "p3.10",
   "language": "python",
   "name": "python3"
  },
  "language_info": {
   "codemirror_mode": {
    "name": "ipython",
    "version": 3
   },
   "file_extension": ".py",
   "mimetype": "text/x-python",
   "name": "python",
   "nbconvert_exporter": "python",
   "pygments_lexer": "ipython3",
   "version": "3.10.16"
  }
 },
 "nbformat": 4,
 "nbformat_minor": 2
}
