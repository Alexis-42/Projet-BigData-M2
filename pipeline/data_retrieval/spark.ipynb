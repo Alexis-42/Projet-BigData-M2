{
 "cells": [
  {
   "cell_type": "markdown",
   "metadata": {},
   "source": [
    "# Mise en place de spark & kafka"
   ]
  },
  {
   "cell_type": "markdown",
   "metadata": {},
   "source": [
    "### Mise en place du Producer"
   ]
  },
  {
   "cell_type": "code",
   "execution_count": 72,
   "metadata": {},
   "outputs": [],
   "source": [
    "from pyspark.sql import SparkSession\n",
    "from pyspark.sql.functions import json_tuple\n",
    "\n",
    "from kafka import KafkaConsumer, KafkaProducer\n",
    "import json\n",
    "import os\n",
    "\n",
    "def create_spark_session():\n",
    "    spark = SparkSession.builder \\\n",
    "        .appName(\"KafkaSpark\") \\\n",
    "        .getOrCreate()\n",
    "    return spark\n",
    "\n",
    "def produce_messages(message, topic):\n",
    "    producer = KafkaProducer(\n",
    "        bootstrap_servers='kafka1:29092, kafka2:29092, kafka3:29092,',\n",
    "        value_serializer=lambda v: json.dumps(v).encode('utf-8')\n",
    "    )\n",
    "\n",
    "    producer.send('add_to_es', value=message)\n",
    "    \n",
    "    producer.flush()\n",
    "    producer.close()\n",
    "    "
   ]
  },
  {
   "cell_type": "markdown",
   "metadata": {},
   "source": [
    "### Mise en place du Consumer"
   ]
  },
  {
   "cell_type": "code",
   "execution_count": 73,
   "metadata": {},
   "outputs": [],
   "source": [
    "def consume_messages(spark, topic):\n",
    "    consumer = KafkaConsumer(\n",
    "        topic,\n",
    "        bootstrap_servers='localhost:29092',\n",
    "        value_deserializer=lambda m: json.loads(m.decode('utf-8'))\n",
    "    )\n",
    "\n",
    "    for message in consumer:\n",
    "        process_message(spark, message.value)\n",
    "\n",
    "def process_message(spark, message):\n",
    "    print(\"Processing message: \", message)\n",
    "    # Here you can add logic to insert the data into MongoDB\n",
    "    # For example, df.write.format(\"mongo\").mode(\"append\").save(\"mongodb://mongo:[MONGOPORT]/your_db.your_collection\")"
   ]
  },
  {
   "cell_type": "markdown",
   "metadata": {},
   "source": [
    "### Test du consumer & producer"
   ]
  },
  {
   "cell_type": "code",
   "execution_count": 74,
   "metadata": {},
   "outputs": [],
   "source": [
    "spark = create_spark_session()"
   ]
  },
  {
   "cell_type": "markdown",
   "metadata": {},
   "source": [
    "Test producer"
   ]
  },
  {
   "cell_type": "code",
   "execution_count": null,
   "metadata": {},
   "outputs": [],
   "source": [
    "from kafka.errors import NoBrokersAvailable\n",
    "\n",
    "try:\n",
    "\tproduce_messages({\"name\": \"John\", \"age\": 30}, 'add_to_es')\n",
    "except NoBrokersAvailable as e:\n",
    "\tprint(\"Error: No Kafka brokers available. Please ensure the Kafka broker is running and the address is correct.\")\n",
    "\tprint(e)"
   ]
  },
  {
   "cell_type": "markdown",
   "metadata": {},
   "source": [
    "Test Consumer"
   ]
  },
  {
   "cell_type": "code",
   "execution_count": null,
   "metadata": {},
   "outputs": [],
   "source": [
    "try:\n",
    "    consume_messages(spark, 'add_to_es')\n",
    "except NoBrokersAvailable as e:\n",
    "    print(\"Error: No Kafka brokers available. Please ensure the Kafka broker is running and the address is correct.\")\n",
    "    print(\"Detailed error message:\", e)\n",
    "except Exception as e:\n",
    "    print(\"An unexpected error occurred:\", e)"
   ]
  }
 ],
 "metadata": {
  "kernelspec": {
   "display_name": "p3.10",
   "language": "python",
   "name": "python3"
  },
  "language_info": {
   "codemirror_mode": {
    "name": "ipython",
    "version": 3
   },
   "file_extension": ".py",
   "mimetype": "text/x-python",
   "name": "python",
   "nbconvert_exporter": "python",
   "pygments_lexer": "ipython3",
   "version": "3.10.16"
  }
 },
 "nbformat": 4,
 "nbformat_minor": 2
}
