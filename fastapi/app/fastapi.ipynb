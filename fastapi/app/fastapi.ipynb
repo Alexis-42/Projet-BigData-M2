{
 "cells": [
  {
   "cell_type": "markdown",
   "metadata": {},
   "source": [
    "# Gestion d'une api"
   ]
  },
  {
   "cell_type": "markdown",
   "metadata": {},
   "source": [
    "## Routes"
   ]
  },
  {
   "cell_type": "code",
   "execution_count": 5,
   "metadata": {},
   "outputs": [],
   "source": [
    "from fastapi import APIRouter, HTTPException\n",
    "from pydantic import BaseModel\n",
    "from typing import List\n",
    "\n",
    "router = APIRouter()\n",
    "\n",
    "class Item(BaseModel):\n",
    "    id: str\n",
    "    name: str\n",
    "    description: str\n",
    "\n",
    "items_db = []\n",
    "\n",
    "@router.post(\"/items/\", response_model=Item)\n",
    "def create_item(item: Item):\n",
    "    items_db.append(item)\n",
    "    return item\n",
    "\n",
    "@router.get(\"/items/\", response_model=List[Item])\n",
    "def read_items():\n",
    "    return items_db\n",
    "\n",
    "@router.get(\"/items/{item_id}\", response_model=Item)\n",
    "def read_item(item_id: str):\n",
    "    for item in items_db:\n",
    "        if item.id == item_id:\n",
    "            return item\n",
    "    raise HTTPException(status_code=404, detail=\"Item not found\")"
   ]
  },
  {
   "cell_type": "markdown",
   "metadata": {},
   "source": [
    "## Models"
   ]
  },
  {
   "cell_type": "code",
   "execution_count": 6,
   "metadata": {},
   "outputs": [],
   "source": [
    "from pydantic import BaseModel\n",
    "from typing import List, Optional\n",
    "\n",
    "class Repo(BaseModel):\n",
    "    name: str\n",
    "    full_name: str\n",
    "    html_url: str\n",
    "    description: Optional[str] = None\n",
    "    readme: str"
   ]
  },
  {
   "cell_type": "markdown",
   "metadata": {},
   "source": [
    "## Dependences"
   ]
  },
  {
   "cell_type": "code",
   "execution_count": 7,
   "metadata": {},
   "outputs": [],
   "source": [
    "from motor.motor_asyncio import AsyncIOMotorClient\n",
    "\n",
    "def get_db_connection():\n",
    "    client = AsyncIOMotorClient('mongodb://mongo:27017')\n",
    "    return client.bdProjet\n",
    "\n",
    "def get_elasticsearch_client():\n",
    "    # Logic to get an Elasticsearch client\n",
    "    pass"
   ]
  },
  {
   "cell_type": "markdown",
   "metadata": {},
   "source": [
    "## Routes"
   ]
  },
  {
   "cell_type": "code",
   "execution_count": 8,
   "metadata": {},
   "outputs": [],
   "source": [
    "from fastapi import FastAPI, APIRouter, HTTPException, Depends\n",
    "from fastapi.middleware.cors import CORSMiddleware\n",
    "from typing import List\n",
    "\n",
    "app = FastAPI()\n",
    "\n",
    "app.add_middleware(\n",
    "    CORSMiddleware,\n",
    "    allow_origins=[\"*\"],\n",
    "    allow_credentials=True,\n",
    "    allow_methods=[\"*\"],\n",
    "    allow_headers=[\"*\"],\n",
    ")\n",
    "\n",
    "app.include_router(router)\n",
    "\n",
    "@app.get(\"/\")\n",
    "def read_root():\n",
    "    return {\"message\": \"Welcome to the FastAPI application!\"}\n",
    "\n",
    "\n",
    "\n",
    "router = APIRouter()\n",
    "\n",
    "@router.get(\"/repos/\", response_model=List[Repo])\n",
    "async def read_repos(db=Depends(get_db_connection)):\n",
    "    repos = await db.repos.find().to_list(100)\n",
    "    return repos\n",
    "\n",
    "@router.get(\"/repos/{repo_id}\", response_model=Repo)\n",
    "async def read_repo(repo_id: str, db=Depends(get_db_connection)):\n",
    "    repo = await db.repos.find_one({\"_id\": repo_id})\n",
    "    if repo is None:\n",
    "        raise HTTPException(status_code=404, detail=\"Repo not found\")\n",
    "    return repo"
   ]
  }
 ],
 "metadata": {
  "kernelspec": {
   "display_name": "p3.10",
   "language": "python",
   "name": "python3"
  },
  "language_info": {
   "codemirror_mode": {
    "name": "ipython",
    "version": 3
   },
   "file_extension": ".py",
   "mimetype": "text/x-python",
   "name": "python",
   "nbconvert_exporter": "python",
   "pygments_lexer": "ipython3",
   "version": "3.10.16"
  }
 },
 "nbformat": 4,
 "nbformat_minor": 2
}
